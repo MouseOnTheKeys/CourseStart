{
 "cells": [
  {
   "cell_type": "code",
   "execution_count": 1,
   "metadata": {},
   "outputs": [],
   "source": [
    "import numpy as np\n",
    "import pandas as pd\n",
    "from pandas import Series,DataFrame"
   ]
  },
  {
   "cell_type": "code",
   "execution_count": 2,
   "metadata": {},
   "outputs": [],
   "source": [
    "np.random.seed(12345)"
   ]
  },
  {
   "cell_type": "code",
   "execution_count": 3,
   "metadata": {},
   "outputs": [],
   "source": [
    "dframe = DataFrame(np.random.rand(1000,5))"
   ]
  },
  {
   "cell_type": "code",
   "execution_count": 4,
   "metadata": {},
   "outputs": [
    {
     "data": {
      "text/html": [
       "<div>\n",
       "<style scoped>\n",
       "    .dataframe tbody tr th:only-of-type {\n",
       "        vertical-align: middle;\n",
       "    }\n",
       "\n",
       "    .dataframe tbody tr th {\n",
       "        vertical-align: top;\n",
       "    }\n",
       "\n",
       "    .dataframe thead th {\n",
       "        text-align: right;\n",
       "    }\n",
       "</style>\n",
       "<table border=\"1\" class=\"dataframe\">\n",
       "  <thead>\n",
       "    <tr style=\"text-align: right;\">\n",
       "      <th></th>\n",
       "      <th>0</th>\n",
       "      <th>1</th>\n",
       "      <th>2</th>\n",
       "      <th>3</th>\n",
       "      <th>4</th>\n",
       "    </tr>\n",
       "  </thead>\n",
       "  <tbody>\n",
       "    <tr>\n",
       "      <th>0</th>\n",
       "      <td>0.929616</td>\n",
       "      <td>0.316376</td>\n",
       "      <td>0.183919</td>\n",
       "      <td>0.204560</td>\n",
       "      <td>0.567725</td>\n",
       "    </tr>\n",
       "    <tr>\n",
       "      <th>1</th>\n",
       "      <td>0.595545</td>\n",
       "      <td>0.964515</td>\n",
       "      <td>0.653177</td>\n",
       "      <td>0.748907</td>\n",
       "      <td>0.653570</td>\n",
       "    </tr>\n",
       "    <tr>\n",
       "      <th>2</th>\n",
       "      <td>0.747715</td>\n",
       "      <td>0.961307</td>\n",
       "      <td>0.008388</td>\n",
       "      <td>0.106444</td>\n",
       "      <td>0.298704</td>\n",
       "    </tr>\n",
       "    <tr>\n",
       "      <th>3</th>\n",
       "      <td>0.656411</td>\n",
       "      <td>0.809813</td>\n",
       "      <td>0.872176</td>\n",
       "      <td>0.964648</td>\n",
       "      <td>0.723685</td>\n",
       "    </tr>\n",
       "    <tr>\n",
       "      <th>4</th>\n",
       "      <td>0.642475</td>\n",
       "      <td>0.717454</td>\n",
       "      <td>0.467599</td>\n",
       "      <td>0.325585</td>\n",
       "      <td>0.439645</td>\n",
       "    </tr>\n",
       "  </tbody>\n",
       "</table>\n",
       "</div>"
      ],
      "text/plain": [
       "          0         1         2         3         4\n",
       "0  0.929616  0.316376  0.183919  0.204560  0.567725\n",
       "1  0.595545  0.964515  0.653177  0.748907  0.653570\n",
       "2  0.747715  0.961307  0.008388  0.106444  0.298704\n",
       "3  0.656411  0.809813  0.872176  0.964648  0.723685\n",
       "4  0.642475  0.717454  0.467599  0.325585  0.439645"
      ]
     },
     "execution_count": 4,
     "metadata": {},
     "output_type": "execute_result"
    }
   ],
   "source": [
    "dframe.head()"
   ]
  },
  {
   "cell_type": "code",
   "execution_count": 5,
   "metadata": {},
   "outputs": [
    {
     "data": {
      "text/html": [
       "<div>\n",
       "<style scoped>\n",
       "    .dataframe tbody tr th:only-of-type {\n",
       "        vertical-align: middle;\n",
       "    }\n",
       "\n",
       "    .dataframe tbody tr th {\n",
       "        vertical-align: top;\n",
       "    }\n",
       "\n",
       "    .dataframe thead th {\n",
       "        text-align: right;\n",
       "    }\n",
       "</style>\n",
       "<table border=\"1\" class=\"dataframe\">\n",
       "  <thead>\n",
       "    <tr style=\"text-align: right;\">\n",
       "      <th></th>\n",
       "      <th>0</th>\n",
       "      <th>1</th>\n",
       "      <th>2</th>\n",
       "      <th>3</th>\n",
       "      <th>4</th>\n",
       "    </tr>\n",
       "  </thead>\n",
       "  <tbody>\n",
       "    <tr>\n",
       "      <th>995</th>\n",
       "      <td>0.715724</td>\n",
       "      <td>0.063117</td>\n",
       "      <td>0.902055</td>\n",
       "      <td>0.460340</td>\n",
       "      <td>0.943949</td>\n",
       "    </tr>\n",
       "    <tr>\n",
       "      <th>996</th>\n",
       "      <td>0.460529</td>\n",
       "      <td>0.712253</td>\n",
       "      <td>0.754892</td>\n",
       "      <td>0.204595</td>\n",
       "      <td>0.792778</td>\n",
       "    </tr>\n",
       "    <tr>\n",
       "      <th>997</th>\n",
       "      <td>0.578248</td>\n",
       "      <td>0.491224</td>\n",
       "      <td>0.001471</td>\n",
       "      <td>0.111591</td>\n",
       "      <td>0.740075</td>\n",
       "    </tr>\n",
       "    <tr>\n",
       "      <th>998</th>\n",
       "      <td>0.028914</td>\n",
       "      <td>0.445665</td>\n",
       "      <td>0.466800</td>\n",
       "      <td>0.577488</td>\n",
       "      <td>0.905589</td>\n",
       "    </tr>\n",
       "    <tr>\n",
       "      <th>999</th>\n",
       "      <td>0.418184</td>\n",
       "      <td>0.156726</td>\n",
       "      <td>0.183991</td>\n",
       "      <td>0.738756</td>\n",
       "      <td>0.697217</td>\n",
       "    </tr>\n",
       "  </tbody>\n",
       "</table>\n",
       "</div>"
      ],
      "text/plain": [
       "            0         1         2         3         4\n",
       "995  0.715724  0.063117  0.902055  0.460340  0.943949\n",
       "996  0.460529  0.712253  0.754892  0.204595  0.792778\n",
       "997  0.578248  0.491224  0.001471  0.111591  0.740075\n",
       "998  0.028914  0.445665  0.466800  0.577488  0.905589\n",
       "999  0.418184  0.156726  0.183991  0.738756  0.697217"
      ]
     },
     "execution_count": 5,
     "metadata": {},
     "output_type": "execute_result"
    }
   ],
   "source": [
    "dframe.tail()"
   ]
  },
  {
   "cell_type": "code",
   "execution_count": 6,
   "metadata": {},
   "outputs": [
    {
     "data": {
      "text/html": [
       "<div>\n",
       "<style scoped>\n",
       "    .dataframe tbody tr th:only-of-type {\n",
       "        vertical-align: middle;\n",
       "    }\n",
       "\n",
       "    .dataframe tbody tr th {\n",
       "        vertical-align: top;\n",
       "    }\n",
       "\n",
       "    .dataframe thead th {\n",
       "        text-align: right;\n",
       "    }\n",
       "</style>\n",
       "<table border=\"1\" class=\"dataframe\">\n",
       "  <thead>\n",
       "    <tr style=\"text-align: right;\">\n",
       "      <th></th>\n",
       "      <th>0</th>\n",
       "      <th>1</th>\n",
       "      <th>2</th>\n",
       "      <th>3</th>\n",
       "      <th>4</th>\n",
       "    </tr>\n",
       "  </thead>\n",
       "  <tbody>\n",
       "    <tr>\n",
       "      <th>count</th>\n",
       "      <td>1000.000000</td>\n",
       "      <td>1000.000000</td>\n",
       "      <td>1000.000000</td>\n",
       "      <td>1000.000000</td>\n",
       "      <td>1000.000000</td>\n",
       "    </tr>\n",
       "    <tr>\n",
       "      <th>mean</th>\n",
       "      <td>0.502068</td>\n",
       "      <td>0.510990</td>\n",
       "      <td>0.501709</td>\n",
       "      <td>0.485272</td>\n",
       "      <td>0.503769</td>\n",
       "    </tr>\n",
       "    <tr>\n",
       "      <th>std</th>\n",
       "      <td>0.289679</td>\n",
       "      <td>0.288548</td>\n",
       "      <td>0.285303</td>\n",
       "      <td>0.288459</td>\n",
       "      <td>0.286442</td>\n",
       "    </tr>\n",
       "    <tr>\n",
       "      <th>min</th>\n",
       "      <td>0.001187</td>\n",
       "      <td>0.000877</td>\n",
       "      <td>0.001471</td>\n",
       "      <td>0.000501</td>\n",
       "      <td>0.000107</td>\n",
       "    </tr>\n",
       "    <tr>\n",
       "      <th>25%</th>\n",
       "      <td>0.251832</td>\n",
       "      <td>0.257634</td>\n",
       "      <td>0.263959</td>\n",
       "      <td>0.222521</td>\n",
       "      <td>0.253082</td>\n",
       "    </tr>\n",
       "    <tr>\n",
       "      <th>50%</th>\n",
       "      <td>0.492151</td>\n",
       "      <td>0.518141</td>\n",
       "      <td>0.495021</td>\n",
       "      <td>0.477413</td>\n",
       "      <td>0.515572</td>\n",
       "    </tr>\n",
       "    <tr>\n",
       "      <th>75%</th>\n",
       "      <td>0.760075</td>\n",
       "      <td>0.764501</td>\n",
       "      <td>0.751866</td>\n",
       "      <td>0.737005</td>\n",
       "      <td>0.744672</td>\n",
       "    </tr>\n",
       "    <tr>\n",
       "      <th>max</th>\n",
       "      <td>0.994779</td>\n",
       "      <td>0.999414</td>\n",
       "      <td>0.996215</td>\n",
       "      <td>0.998926</td>\n",
       "      <td>0.996193</td>\n",
       "    </tr>\n",
       "  </tbody>\n",
       "</table>\n",
       "</div>"
      ],
      "text/plain": [
       "                 0            1            2            3            4\n",
       "count  1000.000000  1000.000000  1000.000000  1000.000000  1000.000000\n",
       "mean      0.502068     0.510990     0.501709     0.485272     0.503769\n",
       "std       0.289679     0.288548     0.285303     0.288459     0.286442\n",
       "min       0.001187     0.000877     0.001471     0.000501     0.000107\n",
       "25%       0.251832     0.257634     0.263959     0.222521     0.253082\n",
       "50%       0.492151     0.518141     0.495021     0.477413     0.515572\n",
       "75%       0.760075     0.764501     0.751866     0.737005     0.744672\n",
       "max       0.994779     0.999414     0.996215     0.998926     0.996193"
      ]
     },
     "execution_count": 6,
     "metadata": {},
     "output_type": "execute_result"
    }
   ],
   "source": [
    "dframe.describe()"
   ]
  },
  {
   "cell_type": "code",
   "execution_count": 7,
   "metadata": {},
   "outputs": [],
   "source": [
    "col = dframe[0]"
   ]
  },
  {
   "cell_type": "code",
   "execution_count": 8,
   "metadata": {},
   "outputs": [
    {
     "data": {
      "text/plain": [
       "0    0.929616\n",
       "1    0.595545\n",
       "2    0.747715\n",
       "3    0.656411\n",
       "4    0.642475\n",
       "Name: 0, dtype: float64"
      ]
     },
     "execution_count": 8,
     "metadata": {},
     "output_type": "execute_result"
    }
   ],
   "source": [
    "col.head()"
   ]
  },
  {
   "cell_type": "code",
   "execution_count": 14,
   "metadata": {},
   "outputs": [
    {
     "data": {
      "text/plain": [
       "0      0.929616\n",
       "8      0.818350\n",
       "14     0.888422\n",
       "16     0.945372\n",
       "19     0.910725\n",
       "         ...   \n",
       "979    0.888663\n",
       "987    0.869508\n",
       "989    0.893268\n",
       "991    0.868590\n",
       "992    0.984227\n",
       "Name: 0, Length: 217, dtype: float64"
      ]
     },
     "execution_count": 14,
     "metadata": {},
     "output_type": "execute_result"
    }
   ],
   "source": [
    "col[np.abs(col)>0.8]"
   ]
  },
  {
   "cell_type": "code",
   "execution_count": 16,
   "metadata": {},
   "outputs": [
    {
     "data": {
      "text/html": [
       "<div>\n",
       "<style scoped>\n",
       "    .dataframe tbody tr th:only-of-type {\n",
       "        vertical-align: middle;\n",
       "    }\n",
       "\n",
       "    .dataframe tbody tr th {\n",
       "        vertical-align: top;\n",
       "    }\n",
       "\n",
       "    .dataframe thead th {\n",
       "        text-align: right;\n",
       "    }\n",
       "</style>\n",
       "<table border=\"1\" class=\"dataframe\">\n",
       "  <thead>\n",
       "    <tr style=\"text-align: right;\">\n",
       "      <th></th>\n",
       "      <th>0</th>\n",
       "      <th>1</th>\n",
       "      <th>2</th>\n",
       "      <th>3</th>\n",
       "      <th>4</th>\n",
       "    </tr>\n",
       "  </thead>\n",
       "  <tbody>\n",
       "  </tbody>\n",
       "</table>\n",
       "</div>"
      ],
      "text/plain": [
       "Empty DataFrame\n",
       "Columns: [0, 1, 2, 3, 4]\n",
       "Index: []"
      ]
     },
     "execution_count": 16,
     "metadata": {},
     "output_type": "execute_result"
    }
   ],
   "source": [
    "dframe[(np.abs(dframe)>2).any(1)]"
   ]
  },
  {
   "cell_type": "code",
   "execution_count": 17,
   "metadata": {},
   "outputs": [],
   "source": [
    "dframe[np.abs(dframe)>0.999] = np.sign(dframe)*3"
   ]
  },
  {
   "cell_type": "code",
   "execution_count": 18,
   "metadata": {},
   "outputs": [
    {
     "data": {
      "text/html": [
       "<div>\n",
       "<style scoped>\n",
       "    .dataframe tbody tr th:only-of-type {\n",
       "        vertical-align: middle;\n",
       "    }\n",
       "\n",
       "    .dataframe tbody tr th {\n",
       "        vertical-align: top;\n",
       "    }\n",
       "\n",
       "    .dataframe thead th {\n",
       "        text-align: right;\n",
       "    }\n",
       "</style>\n",
       "<table border=\"1\" class=\"dataframe\">\n",
       "  <thead>\n",
       "    <tr style=\"text-align: right;\">\n",
       "      <th></th>\n",
       "      <th>0</th>\n",
       "      <th>1</th>\n",
       "      <th>2</th>\n",
       "      <th>3</th>\n",
       "      <th>4</th>\n",
       "    </tr>\n",
       "  </thead>\n",
       "  <tbody>\n",
       "    <tr>\n",
       "      <th>count</th>\n",
       "      <td>1000.000000</td>\n",
       "      <td>1000.000000</td>\n",
       "      <td>1000.000000</td>\n",
       "      <td>1000.000000</td>\n",
       "      <td>1000.000000</td>\n",
       "    </tr>\n",
       "    <tr>\n",
       "      <th>mean</th>\n",
       "      <td>0.502068</td>\n",
       "      <td>0.512991</td>\n",
       "      <td>0.501709</td>\n",
       "      <td>0.485272</td>\n",
       "      <td>0.503769</td>\n",
       "    </tr>\n",
       "    <tr>\n",
       "      <th>std</th>\n",
       "      <td>0.289679</td>\n",
       "      <td>0.298695</td>\n",
       "      <td>0.285303</td>\n",
       "      <td>0.288459</td>\n",
       "      <td>0.286442</td>\n",
       "    </tr>\n",
       "    <tr>\n",
       "      <th>min</th>\n",
       "      <td>0.001187</td>\n",
       "      <td>0.000877</td>\n",
       "      <td>0.001471</td>\n",
       "      <td>0.000501</td>\n",
       "      <td>0.000107</td>\n",
       "    </tr>\n",
       "    <tr>\n",
       "      <th>25%</th>\n",
       "      <td>0.251832</td>\n",
       "      <td>0.257634</td>\n",
       "      <td>0.263959</td>\n",
       "      <td>0.222521</td>\n",
       "      <td>0.253082</td>\n",
       "    </tr>\n",
       "    <tr>\n",
       "      <th>50%</th>\n",
       "      <td>0.492151</td>\n",
       "      <td>0.518141</td>\n",
       "      <td>0.495021</td>\n",
       "      <td>0.477413</td>\n",
       "      <td>0.515572</td>\n",
       "    </tr>\n",
       "    <tr>\n",
       "      <th>75%</th>\n",
       "      <td>0.760075</td>\n",
       "      <td>0.764501</td>\n",
       "      <td>0.751866</td>\n",
       "      <td>0.737005</td>\n",
       "      <td>0.744672</td>\n",
       "    </tr>\n",
       "    <tr>\n",
       "      <th>max</th>\n",
       "      <td>0.994779</td>\n",
       "      <td>3.000000</td>\n",
       "      <td>0.996215</td>\n",
       "      <td>0.998926</td>\n",
       "      <td>0.996193</td>\n",
       "    </tr>\n",
       "  </tbody>\n",
       "</table>\n",
       "</div>"
      ],
      "text/plain": [
       "                 0            1            2            3            4\n",
       "count  1000.000000  1000.000000  1000.000000  1000.000000  1000.000000\n",
       "mean      0.502068     0.512991     0.501709     0.485272     0.503769\n",
       "std       0.289679     0.298695     0.285303     0.288459     0.286442\n",
       "min       0.001187     0.000877     0.001471     0.000501     0.000107\n",
       "25%       0.251832     0.257634     0.263959     0.222521     0.253082\n",
       "50%       0.492151     0.518141     0.495021     0.477413     0.515572\n",
       "75%       0.760075     0.764501     0.751866     0.737005     0.744672\n",
       "max       0.994779     3.000000     0.996215     0.998926     0.996193"
      ]
     },
     "execution_count": 18,
     "metadata": {},
     "output_type": "execute_result"
    }
   ],
   "source": [
    "dframe.describe()"
   ]
  },
  {
   "cell_type": "code",
   "execution_count": null,
   "metadata": {},
   "outputs": [],
   "source": []
  }
 ],
 "metadata": {
  "kernelspec": {
   "display_name": "Python 3",
   "language": "python",
   "name": "python3"
  },
  "language_info": {
   "codemirror_mode": {
    "name": "ipython",
    "version": 3
   },
   "file_extension": ".py",
   "mimetype": "text/x-python",
   "name": "python",
   "nbconvert_exporter": "python",
   "pygments_lexer": "ipython3",
   "version": "3.7.5"
  }
 },
 "nbformat": 4,
 "nbformat_minor": 2
}
