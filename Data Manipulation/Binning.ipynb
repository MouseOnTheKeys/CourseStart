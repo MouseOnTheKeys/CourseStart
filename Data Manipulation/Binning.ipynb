{
 "cells": [
  {
   "cell_type": "code",
   "execution_count": 1,
   "metadata": {},
   "outputs": [],
   "source": [
    "import numpy as np\n",
    "import pandas as pd\n",
    "from pandas import Series, DataFrame"
   ]
  },
  {
   "cell_type": "code",
   "execution_count": 2,
   "metadata": {},
   "outputs": [],
   "source": [
    "years = [1990,1991,1992,1993,2008,2012,2015,2018,1985,1987,1999]"
   ]
  },
  {
   "cell_type": "code",
   "execution_count": 3,
   "metadata": {},
   "outputs": [],
   "source": [
    "decade_bins = [1960,1970,1980,1990,2000,2010,2020,2030]"
   ]
  },
  {
   "cell_type": "code",
   "execution_count": 4,
   "metadata": {},
   "outputs": [
    {
     "data": {
      "text/plain": [
       "[(1980, 1990], (1990, 2000], (1990, 2000], (1990, 2000], (2000, 2010], ..., (2010, 2020], (2010, 2020], (1980, 1990], (1980, 1990], (1990, 2000]]\n",
       "Length: 11\n",
       "Categories (7, interval[int64]): [(1960, 1970] < (1970, 1980] < (1980, 1990] < (1990, 2000] < (2000, 2010] < (2010, 2020] < (2020, 2030]]"
      ]
     },
     "execution_count": 4,
     "metadata": {},
     "output_type": "execute_result"
    }
   ],
   "source": [
    "#category objects\n",
    "decade_cat = pd.cut(years,decade_bins)\n",
    "decade_cat"
   ]
  },
  {
   "cell_type": "code",
   "execution_count": 5,
   "metadata": {},
   "outputs": [
    {
     "data": {
      "text/plain": [
       "IntervalIndex([(1960, 1970], (1970, 1980], (1980, 1990], (1990, 2000], (2000, 2010], (2010, 2020], (2020, 2030]],\n",
       "              closed='right',\n",
       "              dtype='interval[int64]')"
      ]
     },
     "execution_count": 5,
     "metadata": {},
     "output_type": "execute_result"
    }
   ],
   "source": [
    "decade_cat.categories"
   ]
  },
  {
   "cell_type": "code",
   "execution_count": 6,
   "metadata": {},
   "outputs": [
    {
     "data": {
      "text/plain": [
       "(1990, 2000]    4\n",
       "(2010, 2020]    3\n",
       "(1980, 1990]    3\n",
       "(2000, 2010]    1\n",
       "(2020, 2030]    0\n",
       "(1970, 1980]    0\n",
       "(1960, 1970]    0\n",
       "dtype: int64"
      ]
     },
     "execution_count": 6,
     "metadata": {},
     "output_type": "execute_result"
    }
   ],
   "source": [
    "pd.value_counts(decade_cat)"
   ]
  },
  {
   "cell_type": "code",
   "execution_count": 7,
   "metadata": {},
   "outputs": [
    {
     "data": {
      "text/plain": [
       "[(1985.0, 2001.5], (1985.0, 2001.5], (1985.0, 2001.5], (1985.0, 2001.5], (2001.5, 2018.0], ..., (2001.5, 2018.0], (2001.5, 2018.0], (1985.0, 2001.5], (1985.0, 2001.5], (1985.0, 2001.5]]\n",
       "Length: 11\n",
       "Categories (2, interval[float64]): [(1985.0, 2001.5] < (2001.5, 2018.0]]"
      ]
     },
     "execution_count": 7,
     "metadata": {},
     "output_type": "execute_result"
    }
   ],
   "source": [
    "pd.cut(years,2,precision=1)"
   ]
  },
  {
   "cell_type": "code",
   "execution_count": 10,
   "metadata": {},
   "outputs": [
    {
     "data": {
      "text/plain": [
       "[(1985.0, 1993.2], (1985.0, 1993.2], (1985.0, 1993.2], (1985.0, 1993.2], (2001.5, 2009.8], ..., (2009.8, 2018.0], (2009.8, 2018.0], (1985.0, 1993.2], (1985.0, 1993.2], (1993.2, 2001.5]]\n",
       "Length: 11\n",
       "Categories (4, interval[float64]): [(1985.0, 1993.2] < (1993.2, 2001.5] < (2001.5, 2009.8] < (2009.8, 2018.0]]"
      ]
     },
     "execution_count": 10,
     "metadata": {},
     "output_type": "execute_result"
    }
   ],
   "source": [
    "pd.cut(years,4,precision=1)"
   ]
  },
  {
   "cell_type": "code",
   "execution_count": null,
   "metadata": {},
   "outputs": [],
   "source": []
  }
 ],
 "metadata": {
  "kernelspec": {
   "display_name": "Python 3",
   "language": "python",
   "name": "python3"
  },
  "language_info": {
   "codemirror_mode": {
    "name": "ipython",
    "version": 3
   },
   "file_extension": ".py",
   "mimetype": "text/x-python",
   "name": "python",
   "nbconvert_exporter": "python",
   "pygments_lexer": "ipython3",
   "version": "3.7.5"
  }
 },
 "nbformat": 4,
 "nbformat_minor": 2
}
